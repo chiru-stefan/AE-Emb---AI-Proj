{
  "nbformat": 4,
  "nbformat_minor": 0,
  "metadata": {
    "kernelspec": {
      "display_name": "Python 3",
      "language": "python",
      "name": "python3"
    },
    "language_info": {
      "codemirror_mode": {
        "name": "ipython",
        "version": 2
      },
      "file_extension": ".py",
      "mimetype": "text/x-python",
      "name": "python",
      "nbconvert_exporter": "python",
      "pygments_lexer": "ipython2",
      "version": "2.7.6"
    },
    "colab": {
      "name": "sequence_embedding.ipynb",
      "provenance": [],
      "toc_visible": true,
      "machine_shape": "hm"
    },
    "accelerator": "GPU"
  },
  "cells": [
    {
      "cell_type": "code",
      "metadata": {
        "pycharm": {
          "name": "#%%\n"
        },
        "id": "iFDXX_BctsNl",
        "outputId": "0978772c-1839-4308-e180-690e8b065b5f",
        "colab": {
          "base_uri": "https://localhost:8080/",
          "height": 972
        }
      },
      "source": [
        "# Install your required packages here\n",
        "!pip install pandas numpy matplotlib sklearn fsspec gcsfs"
      ],
      "execution_count": 9,
      "outputs": [
        {
          "output_type": "stream",
          "text": [
            "Requirement already satisfied: pandas in /usr/local/lib/python3.6/dist-packages (1.1.2)\n",
            "Requirement already satisfied: numpy in /usr/local/lib/python3.6/dist-packages (1.18.5)\n",
            "Requirement already satisfied: matplotlib in /usr/local/lib/python3.6/dist-packages (3.2.2)\n",
            "Requirement already satisfied: sklearn in /usr/local/lib/python3.6/dist-packages (0.0)\n",
            "Collecting fsspec\n",
            "\u001b[?25l  Downloading https://files.pythonhosted.org/packages/a5/8b/1df260f860f17cb08698170153ef7db672c497c1840dcc8613ce26a8a005/fsspec-0.8.4-py3-none-any.whl (91kB)\n",
            "\u001b[K     |████████████████████████████████| 92kB 4.0MB/s \n",
            "\u001b[?25hCollecting gcsfs\n",
            "  Downloading https://files.pythonhosted.org/packages/85/75/3d669945d41e5aedd5c4333b9dc6192b7839d2bafd04b75b8222d4e92ae0/gcsfs-0.7.1-py2.py3-none-any.whl\n",
            "Requirement already satisfied: pytz>=2017.2 in /usr/local/lib/python3.6/dist-packages (from pandas) (2018.9)\n",
            "Requirement already satisfied: python-dateutil>=2.7.3 in /usr/local/lib/python3.6/dist-packages (from pandas) (2.8.1)\n",
            "Requirement already satisfied: pyparsing!=2.0.4,!=2.1.2,!=2.1.6,>=2.0.1 in /usr/local/lib/python3.6/dist-packages (from matplotlib) (2.4.7)\n",
            "Requirement already satisfied: kiwisolver>=1.0.1 in /usr/local/lib/python3.6/dist-packages (from matplotlib) (1.2.0)\n",
            "Requirement already satisfied: cycler>=0.10 in /usr/local/lib/python3.6/dist-packages (from matplotlib) (0.10.0)\n",
            "Requirement already satisfied: scikit-learn in /usr/local/lib/python3.6/dist-packages (from sklearn) (0.22.2.post1)\n",
            "Requirement already satisfied: google-auth>=1.2 in /usr/local/lib/python3.6/dist-packages (from gcsfs) (1.17.2)\n",
            "Requirement already satisfied: google-auth-oauthlib in /usr/local/lib/python3.6/dist-packages (from gcsfs) (0.4.1)\n",
            "Requirement already satisfied: requests in /usr/local/lib/python3.6/dist-packages (from gcsfs) (2.23.0)\n",
            "Collecting aiohttp\n",
            "\u001b[?25l  Downloading https://files.pythonhosted.org/packages/78/a6/93acfa8f8b3573c4445ace2f266de62783231923706a4c3ab705e7d43497/aiohttp-3.6.3-cp36-cp36m-manylinux1_x86_64.whl (1.2MB)\n",
            "\u001b[K     |████████████████████████████████| 1.2MB 6.1MB/s \n",
            "\u001b[?25hRequirement already satisfied: decorator in /usr/local/lib/python3.6/dist-packages (from gcsfs) (4.4.2)\n",
            "Requirement already satisfied: six>=1.5 in /usr/local/lib/python3.6/dist-packages (from python-dateutil>=2.7.3->pandas) (1.15.0)\n",
            "Requirement already satisfied: scipy>=0.17.0 in /usr/local/lib/python3.6/dist-packages (from scikit-learn->sklearn) (1.4.1)\n",
            "Requirement already satisfied: joblib>=0.11 in /usr/local/lib/python3.6/dist-packages (from scikit-learn->sklearn) (0.16.0)\n",
            "Requirement already satisfied: cachetools<5.0,>=2.0.0 in /usr/local/lib/python3.6/dist-packages (from google-auth>=1.2->gcsfs) (4.1.1)\n",
            "Requirement already satisfied: pyasn1-modules>=0.2.1 in /usr/local/lib/python3.6/dist-packages (from google-auth>=1.2->gcsfs) (0.2.8)\n",
            "Requirement already satisfied: rsa<5,>=3.1.4; python_version >= \"3\" in /usr/local/lib/python3.6/dist-packages (from google-auth>=1.2->gcsfs) (4.6)\n",
            "Requirement already satisfied: setuptools>=40.3.0 in /usr/local/lib/python3.6/dist-packages (from google-auth>=1.2->gcsfs) (50.3.0)\n",
            "Requirement already satisfied: requests-oauthlib>=0.7.0 in /usr/local/lib/python3.6/dist-packages (from google-auth-oauthlib->gcsfs) (1.3.0)\n",
            "Requirement already satisfied: certifi>=2017.4.17 in /usr/local/lib/python3.6/dist-packages (from requests->gcsfs) (2020.6.20)\n",
            "Requirement already satisfied: idna<3,>=2.5 in /usr/local/lib/python3.6/dist-packages (from requests->gcsfs) (2.10)\n",
            "Requirement already satisfied: urllib3!=1.25.0,!=1.25.1,<1.26,>=1.21.1 in /usr/local/lib/python3.6/dist-packages (from requests->gcsfs) (1.24.3)\n",
            "Requirement already satisfied: chardet<4,>=3.0.2 in /usr/local/lib/python3.6/dist-packages (from requests->gcsfs) (3.0.4)\n",
            "Collecting async-timeout<4.0,>=3.0\n",
            "  Downloading https://files.pythonhosted.org/packages/e1/1e/5a4441be21b0726c4464f3f23c8b19628372f606755a9d2e46c187e65ec4/async_timeout-3.0.1-py3-none-any.whl\n",
            "Collecting multidict<5.0,>=4.5\n",
            "\u001b[?25l  Downloading https://files.pythonhosted.org/packages/1a/95/f50352b5366e7d579e8b99631680a9e32e1b22adfa1629a8f23b1d22d5e2/multidict-4.7.6-cp36-cp36m-manylinux1_x86_64.whl (148kB)\n",
            "\u001b[K     |████████████████████████████████| 153kB 24.5MB/s \n",
            "\u001b[?25hRequirement already satisfied: typing-extensions>=3.6.5; python_version < \"3.7\" in /usr/local/lib/python3.6/dist-packages (from aiohttp->gcsfs) (3.7.4.3)\n",
            "Collecting idna-ssl>=1.0; python_version < \"3.7\"\n",
            "  Downloading https://files.pythonhosted.org/packages/46/03/07c4894aae38b0de52b52586b24bf189bb83e4ddabfe2e2c8f2419eec6f4/idna-ssl-1.1.0.tar.gz\n",
            "Collecting yarl<1.6.0,>=1.0\n",
            "\u001b[?25l  Downloading https://files.pythonhosted.org/packages/a0/b4/2cbeaf2c3ea53865d9613b315fe24e78c66acedb1df7e4be4e064c87203b/yarl-1.5.1-cp36-cp36m-manylinux1_x86_64.whl (257kB)\n",
            "\u001b[K     |████████████████████████████████| 266kB 31.7MB/s \n",
            "\u001b[?25hRequirement already satisfied: attrs>=17.3.0 in /usr/local/lib/python3.6/dist-packages (from aiohttp->gcsfs) (20.2.0)\n",
            "Requirement already satisfied: pyasn1<0.5.0,>=0.4.6 in /usr/local/lib/python3.6/dist-packages (from pyasn1-modules>=0.2.1->google-auth>=1.2->gcsfs) (0.4.8)\n",
            "Requirement already satisfied: oauthlib>=3.0.0 in /usr/local/lib/python3.6/dist-packages (from requests-oauthlib>=0.7.0->google-auth-oauthlib->gcsfs) (3.1.0)\n",
            "Building wheels for collected packages: idna-ssl\n",
            "  Building wheel for idna-ssl (setup.py) ... \u001b[?25l\u001b[?25hdone\n",
            "  Created wheel for idna-ssl: filename=idna_ssl-1.1.0-cp36-none-any.whl size=3161 sha256=f2fa090ec111ed0ccf80c86f027c9fe6df83c394f1ed91c5791d89bd8e2ca3be\n",
            "  Stored in directory: /root/.cache/pip/wheels/d3/00/b3/32d613e19e08a739751dd6bf998cfed277728f8b2127ad4eb7\n",
            "Successfully built idna-ssl\n",
            "Installing collected packages: fsspec, async-timeout, multidict, idna-ssl, yarl, aiohttp, gcsfs\n",
            "Successfully installed aiohttp-3.6.3 async-timeout-3.0.1 fsspec-0.8.4 gcsfs-0.7.1 idna-ssl-1.1.0 multidict-4.7.6 yarl-1.5.1\n"
          ],
          "name": "stdout"
        }
      ]
    },
    {
      "cell_type": "code",
      "metadata": {
        "id": "Q-olAtQRuNM9",
        "outputId": "0f6a63de-23e1-4b90-ed5a-7e49c908a5d4",
        "colab": {
          "base_uri": "https://localhost:8080/",
          "height": 34
        }
      },
      "source": [
        "import os\n",
        "\n",
        "os.listdir()"
      ],
      "execution_count": 2,
      "outputs": [
        {
          "output_type": "execute_result",
          "data": {
            "text/plain": [
              "['.config', 'ai-project-2020-f4dfbc25326c.json', 'sample_data']"
            ]
          },
          "metadata": {
            "tags": []
          },
          "execution_count": 2
        }
      ]
    },
    {
      "cell_type": "code",
      "metadata": {
        "pycharm": {
          "name": "#%% Colab\n"
        },
        "id": "0dWrynsztsNx",
        "outputId": "30a445aa-5a9f-4069-9aeb-d15200f363fd",
        "colab": {
          "base_uri": "https://localhost:8080/",
          "height": 34
        }
      },
      "source": [
        "%env GOOGLE_APPLICATION_CREDENTIALS=ai-project-2020-f4dfbc25326c.json"
      ],
      "execution_count": 1,
      "outputs": [
        {
          "output_type": "stream",
          "text": [
            "env: GOOGLE_APPLICATION_CREDENTIALS=ai-project-2020-f4dfbc25326c.json\n"
          ],
          "name": "stdout"
        }
      ]
    },
    {
      "cell_type": "code",
      "metadata": {
        "pycharm": {
          "name": "#%% Pycharm\n"
        },
        "id": "1HWeIVXqtsN7",
        "outputId": "f79ca021-b0c7-446b-d21f-b48eabe38527",
        "colab": {
          "base_uri": "https://localhost:8080/",
          "height": 34
        }
      },
      "source": [
        "%env GOOGLE_APPLICATION_CREDENTIALS=ai-project-2020-f4dfbc25326c.json"
      ],
      "execution_count": 2,
      "outputs": [
        {
          "output_type": "stream",
          "text": [
            "env: GOOGLE_APPLICATION_CREDENTIALS=ai-project-2020-f4dfbc25326c.json\n"
          ],
          "name": "stdout"
        }
      ]
    },
    {
      "cell_type": "code",
      "metadata": {
        "pycharm": {
          "name": "#%% Imports\n"
        },
        "id": "fbqTt3ZgtsOE"
      },
      "source": [
        "import pandas as pd\n",
        "import numpy as np\n",
        "from tensorflow.keras.models import Sequential\n",
        "from tensorflow.keras.layers import Dense, Embedding, Flatten, Dropout\n",
        "from sklearn.preprocessing import LabelEncoder\n",
        "from google.cloud import storage"
      ],
      "execution_count": 3,
      "outputs": []
    },
    {
      "cell_type": "code",
      "metadata": {
        "pycharm": {
          "name": "#%% Colab\n"
        },
        "id": "AUizP0x4tsOJ",
        "outputId": "6cbb4ee6-512c-42d0-991f-12649ab50e43",
        "colab": {
          "base_uri": "https://localhost:8080/",
          "height": 34
        }
      },
      "source": [
        "from google.colab import drive\n",
        "drive.mount('/content/drive')"
      ],
      "execution_count": 4,
      "outputs": [
        {
          "output_type": "stream",
          "text": [
            "Mounted at /content/drive\n"
          ],
          "name": "stdout"
        }
      ]
    },
    {
      "cell_type": "code",
      "metadata": {
        "pycharm": {
          "name": "#%%\n"
        },
        "id": "x99ytp8JtsOU"
      },
      "source": [
        "# define constants\n",
        "bucket_name = \"ai-project-2020-spotify\"\n",
        "client = storage.Client()\n",
        "bucket = client.get_bucket(bucket_name)"
      ],
      "execution_count": 5,
      "outputs": []
    },
    {
      "cell_type": "code",
      "metadata": {
        "pycharm": {
          "name": "#%%\n"
        },
        "id": "f0yUPzSYtsOd",
        "outputId": "c93456a1-8d92-46a4-df1f-0ae28f051766",
        "colab": {
          "base_uri": "https://localhost:8080/",
          "height": 156
        }
      },
      "source": [
        "train_files = list(bucket.list_blobs(prefix='training_set/'))\n",
        "for blob in [blob for blob in train_files if '20180715' in blob.name]:\n",
        "  print(blob.name)"
      ],
      "execution_count": 6,
      "outputs": [
        {
          "output_type": "stream",
          "text": [
            "training_set/log_0_20180715_000000000000.csv.gz\n",
            "training_set/log_1_20180715_000000000000.csv.gz\n",
            "training_set/log_2_20180715_000000000000.csv.gz\n",
            "training_set/log_3_20180715_000000000000.csv.gz\n",
            "training_set/log_4_20180715_000000000000.csv.gz\n",
            "training_set/log_5_20180715_000000000000.csv.gz\n",
            "training_set/log_6_20180715_000000000000.csv.gz\n",
            "training_set/log_7_20180715_000000000000.csv.gz\n"
          ],
          "name": "stdout"
        }
      ]
    },
    {
      "cell_type": "code",
      "metadata": {
        "pycharm": {
          "name": "#%%\n"
        },
        "id": "67-OT_4ttsOk",
        "outputId": "35f279bc-6dd4-478e-85ad-5bd2f36eae91",
        "colab": {
          "base_uri": "https://localhost:8080/",
          "height": 156
        }
      },
      "source": [
        "logs = pd.read_csv(f\"gs://{bucket_name}/training_set/log_0_20180715_000000000000.csv.gz\")\n",
        "logs.columns"
      ],
      "execution_count": 11,
      "outputs": [
        {
          "output_type": "execute_result",
          "data": {
            "text/plain": [
              "Index(['session_id', 'session_position', 'session_length', 'track_id_clean',\n",
              "       'skip_1', 'skip_2', 'skip_3', 'not_skipped', 'context_switch',\n",
              "       'no_pause_before_play', 'short_pause_before_play',\n",
              "       'long_pause_before_play', 'hist_user_behavior_n_seekfwd',\n",
              "       'hist_user_behavior_n_seekback', 'hist_user_behavior_is_shuffle',\n",
              "       'hour_of_day', 'date', 'premium', 'context_type',\n",
              "       'hist_user_behavior_reason_start', 'hist_user_behavior_reason_end'],\n",
              "      dtype='object')"
            ]
          },
          "metadata": {
            "tags": []
          },
          "execution_count": 11
        }
      ]
    },
    {
      "cell_type": "code",
      "metadata": {
        "pycharm": {
          "name": "#%% Unique Track IDs\n"
        },
        "id": "MBqkIMD0tsOp",
        "outputId": "277fd2cf-a99f-41be-f7a9-63cc25f73aa7",
        "colab": {
          "base_uri": "https://localhost:8080/",
          "height": 34
        }
      },
      "source": [
        "unique_tracks = logs['track_id_clean'].nunique()\n",
        "print(unique_tracks)"
      ],
      "execution_count": 12,
      "outputs": [
        {
          "output_type": "stream",
          "text": [
            "319008\n"
          ],
          "name": "stdout"
        }
      ]
    },
    {
      "cell_type": "code",
      "metadata": {
        "pycharm": {
          "name": "#%% Data Preprocessing\n"
        },
        "id": "tAsCh4JTtsOu",
        "outputId": "9bc3d883-c264-40af-8fbe-9bf84639e80d",
        "colab": {
          "base_uri": "https://localhost:8080/",
          "height": 311
        }
      },
      "source": [
        "logs_dropped = logs[['session_id','session_position','track_id_clean', 'skip_2']]\n",
        "# Skip_2 to binary\n",
        "logs_dropped['skip_2'] = logs_dropped['skip_2'].astype(int)\n",
        "logs_dropped.head()"
      ],
      "execution_count": 13,
      "outputs": [
        {
          "output_type": "stream",
          "text": [
            "/usr/local/lib/python3.6/dist-packages/ipykernel_launcher.py:3: SettingWithCopyWarning: \n",
            "A value is trying to be set on a copy of a slice from a DataFrame.\n",
            "Try using .loc[row_indexer,col_indexer] = value instead\n",
            "\n",
            "See the caveats in the documentation: https://pandas.pydata.org/pandas-docs/stable/user_guide/indexing.html#returning-a-view-versus-a-copy\n",
            "  This is separate from the ipykernel package so we can avoid doing imports until\n"
          ],
          "name": "stderr"
        },
        {
          "output_type": "execute_result",
          "data": {
            "text/html": [
              "<div>\n",
              "<style scoped>\n",
              "    .dataframe tbody tr th:only-of-type {\n",
              "        vertical-align: middle;\n",
              "    }\n",
              "\n",
              "    .dataframe tbody tr th {\n",
              "        vertical-align: top;\n",
              "    }\n",
              "\n",
              "    .dataframe thead th {\n",
              "        text-align: right;\n",
              "    }\n",
              "</style>\n",
              "<table border=\"1\" class=\"dataframe\">\n",
              "  <thead>\n",
              "    <tr style=\"text-align: right;\">\n",
              "      <th></th>\n",
              "      <th>session_id</th>\n",
              "      <th>session_position</th>\n",
              "      <th>track_id_clean</th>\n",
              "      <th>skip_2</th>\n",
              "    </tr>\n",
              "  </thead>\n",
              "  <tbody>\n",
              "    <tr>\n",
              "      <th>0</th>\n",
              "      <td>0_00006f66-33e5-4de7-a324-2d18e439fc1e</td>\n",
              "      <td>1</td>\n",
              "      <td>t_0479f24c-27d2-46d6-a00c-7ec928f2b539</td>\n",
              "      <td>0</td>\n",
              "    </tr>\n",
              "    <tr>\n",
              "      <th>1</th>\n",
              "      <td>0_00006f66-33e5-4de7-a324-2d18e439fc1e</td>\n",
              "      <td>2</td>\n",
              "      <td>t_9099cd7b-c238-47b7-9381-f23f2c1d1043</td>\n",
              "      <td>0</td>\n",
              "    </tr>\n",
              "    <tr>\n",
              "      <th>2</th>\n",
              "      <td>0_00006f66-33e5-4de7-a324-2d18e439fc1e</td>\n",
              "      <td>3</td>\n",
              "      <td>t_fc5df5ba-5396-49a7-8b29-35d0d28249e0</td>\n",
              "      <td>0</td>\n",
              "    </tr>\n",
              "    <tr>\n",
              "      <th>3</th>\n",
              "      <td>0_00006f66-33e5-4de7-a324-2d18e439fc1e</td>\n",
              "      <td>4</td>\n",
              "      <td>t_23cff8d6-d874-4b20-83dc-94e450e8aa20</td>\n",
              "      <td>0</td>\n",
              "    </tr>\n",
              "    <tr>\n",
              "      <th>4</th>\n",
              "      <td>0_00006f66-33e5-4de7-a324-2d18e439fc1e</td>\n",
              "      <td>5</td>\n",
              "      <td>t_64f3743c-f624-46bb-a579-0f3f9a07a123</td>\n",
              "      <td>0</td>\n",
              "    </tr>\n",
              "  </tbody>\n",
              "</table>\n",
              "</div>"
            ],
            "text/plain": [
              "                               session_id  ...  skip_2\n",
              "0  0_00006f66-33e5-4de7-a324-2d18e439fc1e  ...       0\n",
              "1  0_00006f66-33e5-4de7-a324-2d18e439fc1e  ...       0\n",
              "2  0_00006f66-33e5-4de7-a324-2d18e439fc1e  ...       0\n",
              "3  0_00006f66-33e5-4de7-a324-2d18e439fc1e  ...       0\n",
              "4  0_00006f66-33e5-4de7-a324-2d18e439fc1e  ...       0\n",
              "\n",
              "[5 rows x 4 columns]"
            ]
          },
          "metadata": {
            "tags": []
          },
          "execution_count": 13
        }
      ]
    },
    {
      "cell_type": "code",
      "metadata": {
        "pycharm": {
          "name": "#%% Label Encoder\n"
        },
        "id": "vhjzJewBtsO1",
        "outputId": "cbb425c6-957b-4581-815f-4a5d2adbce60",
        "colab": {
          "base_uri": "https://localhost:8080/",
          "height": 312
        }
      },
      "source": [
        "encoder = LabelEncoder()\n",
        "logs_dropped['track_id_clean'] = encoder.fit_transform(logs_dropped['track_id_clean'])\n",
        "logs_dropped.info()"
      ],
      "execution_count": 14,
      "outputs": [
        {
          "output_type": "stream",
          "text": [
            "<class 'pandas.core.frame.DataFrame'>\n",
            "RangeIndex: 2990609 entries, 0 to 2990608\n",
            "Data columns (total 4 columns):\n",
            " #   Column            Dtype \n",
            "---  ------            ----- \n",
            " 0   session_id        object\n",
            " 1   session_position  int64 \n",
            " 2   track_id_clean    int64 \n",
            " 3   skip_2            int64 \n",
            "dtypes: int64(3), object(1)\n",
            "memory usage: 91.3+ MB\n"
          ],
          "name": "stdout"
        },
        {
          "output_type": "stream",
          "text": [
            "/usr/local/lib/python3.6/dist-packages/ipykernel_launcher.py:2: SettingWithCopyWarning: \n",
            "A value is trying to be set on a copy of a slice from a DataFrame.\n",
            "Try using .loc[row_indexer,col_indexer] = value instead\n",
            "\n",
            "See the caveats in the documentation: https://pandas.pydata.org/pandas-docs/stable/user_guide/indexing.html#returning-a-view-versus-a-copy\n",
            "  \n"
          ],
          "name": "stderr"
        }
      ]
    },
    {
      "cell_type": "code",
      "metadata": {
        "pycharm": {
          "name": "#%%\n"
        },
        "id": "FLViia-9tsO7"
      },
      "source": [
        "def stack_sessions(df):\n",
        "    \"\"\"\n",
        "    Turn matrix representation into vector by stacking the listen events together (as columns)\n",
        "    For example:\n",
        "    session_id session_position feature1 feature2\n",
        "    a          1                ~        ~\n",
        "    a          2                ~        ~\n",
        "    b          1                ~        ~\n",
        "    b          2                ~        ~\n",
        "    b          3                ~        ~\n",
        "\n",
        "    Turns into:\n",
        "    session_id 1_feature1 1_feature2 2_feature1 2_feature2 3_feature1 3_feature2\n",
        "    a          ~          ~          ~          ~          Nan        Nan\n",
        "    b          ~          ~          ~          ~          ~          ~\n",
        "    \"\"\"\n",
        "    columns = list(df.columns)\n",
        "    columns.remove('session_id')\n",
        "    columns.remove('session_position')\n",
        "    sessions = df.pivot(index='session_id', columns='session_position', values=columns)\n",
        "    return sessions"
      ],
      "execution_count": 15,
      "outputs": []
    },
    {
      "cell_type": "code",
      "metadata": {
        "pycharm": {
          "name": "#%% Data Processing\n"
        },
        "id": "eC1lcwrptsO_",
        "outputId": "d5dd15f2-361a-4cf5-f069-c7732a44d505",
        "colab": {
          "base_uri": "https://localhost:8080/",
          "height": 411
        }
      },
      "source": [
        "# Stack all Sessions\n",
        "stacked_sessions = stack_sessions(logs_dropped)\n",
        "# Drop all features except track_id, skip_2, session_ids\n",
        "stacked_sessions.head()"
      ],
      "execution_count": 16,
      "outputs": [
        {
          "output_type": "execute_result",
          "data": {
            "text/html": [
              "<div>\n",
              "<style scoped>\n",
              "    .dataframe tbody tr th:only-of-type {\n",
              "        vertical-align: middle;\n",
              "    }\n",
              "\n",
              "    .dataframe tbody tr th {\n",
              "        vertical-align: top;\n",
              "    }\n",
              "\n",
              "    .dataframe thead tr th {\n",
              "        text-align: left;\n",
              "    }\n",
              "\n",
              "    .dataframe thead tr:last-of-type th {\n",
              "        text-align: right;\n",
              "    }\n",
              "</style>\n",
              "<table border=\"1\" class=\"dataframe\">\n",
              "  <thead>\n",
              "    <tr>\n",
              "      <th></th>\n",
              "      <th colspan=\"20\" halign=\"left\">track_id_clean</th>\n",
              "      <th colspan=\"20\" halign=\"left\">skip_2</th>\n",
              "    </tr>\n",
              "    <tr>\n",
              "      <th>session_position</th>\n",
              "      <th>1</th>\n",
              "      <th>2</th>\n",
              "      <th>3</th>\n",
              "      <th>4</th>\n",
              "      <th>5</th>\n",
              "      <th>6</th>\n",
              "      <th>7</th>\n",
              "      <th>8</th>\n",
              "      <th>9</th>\n",
              "      <th>10</th>\n",
              "      <th>11</th>\n",
              "      <th>12</th>\n",
              "      <th>13</th>\n",
              "      <th>14</th>\n",
              "      <th>15</th>\n",
              "      <th>16</th>\n",
              "      <th>17</th>\n",
              "      <th>18</th>\n",
              "      <th>19</th>\n",
              "      <th>20</th>\n",
              "      <th>1</th>\n",
              "      <th>2</th>\n",
              "      <th>3</th>\n",
              "      <th>4</th>\n",
              "      <th>5</th>\n",
              "      <th>6</th>\n",
              "      <th>7</th>\n",
              "      <th>8</th>\n",
              "      <th>9</th>\n",
              "      <th>10</th>\n",
              "      <th>11</th>\n",
              "      <th>12</th>\n",
              "      <th>13</th>\n",
              "      <th>14</th>\n",
              "      <th>15</th>\n",
              "      <th>16</th>\n",
              "      <th>17</th>\n",
              "      <th>18</th>\n",
              "      <th>19</th>\n",
              "      <th>20</th>\n",
              "    </tr>\n",
              "    <tr>\n",
              "      <th>session_id</th>\n",
              "      <th></th>\n",
              "      <th></th>\n",
              "      <th></th>\n",
              "      <th></th>\n",
              "      <th></th>\n",
              "      <th></th>\n",
              "      <th></th>\n",
              "      <th></th>\n",
              "      <th></th>\n",
              "      <th></th>\n",
              "      <th></th>\n",
              "      <th></th>\n",
              "      <th></th>\n",
              "      <th></th>\n",
              "      <th></th>\n",
              "      <th></th>\n",
              "      <th></th>\n",
              "      <th></th>\n",
              "      <th></th>\n",
              "      <th></th>\n",
              "      <th></th>\n",
              "      <th></th>\n",
              "      <th></th>\n",
              "      <th></th>\n",
              "      <th></th>\n",
              "      <th></th>\n",
              "      <th></th>\n",
              "      <th></th>\n",
              "      <th></th>\n",
              "      <th></th>\n",
              "      <th></th>\n",
              "      <th></th>\n",
              "      <th></th>\n",
              "      <th></th>\n",
              "      <th></th>\n",
              "      <th></th>\n",
              "      <th></th>\n",
              "      <th></th>\n",
              "      <th></th>\n",
              "      <th></th>\n",
              "    </tr>\n",
              "  </thead>\n",
              "  <tbody>\n",
              "    <tr>\n",
              "      <th>0_00006f66-33e5-4de7-a324-2d18e439fc1e</th>\n",
              "      <td>5621.0</td>\n",
              "      <td>180239.0</td>\n",
              "      <td>314424.0</td>\n",
              "      <td>44689.0</td>\n",
              "      <td>125848.0</td>\n",
              "      <td>249229.0</td>\n",
              "      <td>281749.0</td>\n",
              "      <td>14825.0</td>\n",
              "      <td>303773.0</td>\n",
              "      <td>53562.0</td>\n",
              "      <td>151377.0</td>\n",
              "      <td>130876.0</td>\n",
              "      <td>112073.0</td>\n",
              "      <td>201043.0</td>\n",
              "      <td>169442.0</td>\n",
              "      <td>273363.0</td>\n",
              "      <td>239225.0</td>\n",
              "      <td>238364.0</td>\n",
              "      <td>20415.0</td>\n",
              "      <td>66971.0</td>\n",
              "      <td>0.0</td>\n",
              "      <td>0.0</td>\n",
              "      <td>0.0</td>\n",
              "      <td>0.0</td>\n",
              "      <td>0.0</td>\n",
              "      <td>0.0</td>\n",
              "      <td>1.0</td>\n",
              "      <td>1.0</td>\n",
              "      <td>1.0</td>\n",
              "      <td>1.0</td>\n",
              "      <td>1.0</td>\n",
              "      <td>1.0</td>\n",
              "      <td>1.0</td>\n",
              "      <td>0.0</td>\n",
              "      <td>1.0</td>\n",
              "      <td>1.0</td>\n",
              "      <td>1.0</td>\n",
              "      <td>1.0</td>\n",
              "      <td>1.0</td>\n",
              "      <td>1.0</td>\n",
              "    </tr>\n",
              "    <tr>\n",
              "      <th>0_0000a72b-09ac-412f-b452-9b9e79bded8f</th>\n",
              "      <td>290715.0</td>\n",
              "      <td>7754.0</td>\n",
              "      <td>163371.0</td>\n",
              "      <td>189575.0</td>\n",
              "      <td>157360.0</td>\n",
              "      <td>135801.0</td>\n",
              "      <td>246743.0</td>\n",
              "      <td>283374.0</td>\n",
              "      <td>13956.0</td>\n",
              "      <td>222296.0</td>\n",
              "      <td>13956.0</td>\n",
              "      <td>222296.0</td>\n",
              "      <td>268111.0</td>\n",
              "      <td>253188.0</td>\n",
              "      <td>23920.0</td>\n",
              "      <td>270663.0</td>\n",
              "      <td>23920.0</td>\n",
              "      <td>270663.0</td>\n",
              "      <td>308064.0</td>\n",
              "      <td>310727.0</td>\n",
              "      <td>1.0</td>\n",
              "      <td>1.0</td>\n",
              "      <td>0.0</td>\n",
              "      <td>0.0</td>\n",
              "      <td>0.0</td>\n",
              "      <td>1.0</td>\n",
              "      <td>1.0</td>\n",
              "      <td>1.0</td>\n",
              "      <td>1.0</td>\n",
              "      <td>1.0</td>\n",
              "      <td>0.0</td>\n",
              "      <td>0.0</td>\n",
              "      <td>1.0</td>\n",
              "      <td>0.0</td>\n",
              "      <td>1.0</td>\n",
              "      <td>1.0</td>\n",
              "      <td>0.0</td>\n",
              "      <td>0.0</td>\n",
              "      <td>0.0</td>\n",
              "      <td>0.0</td>\n",
              "    </tr>\n",
              "    <tr>\n",
              "      <th>0_00010fc5-b79e-4cdf-bc4c-f140d0f99a3a</th>\n",
              "      <td>179103.0</td>\n",
              "      <td>303076.0</td>\n",
              "      <td>129833.0</td>\n",
              "      <td>92348.0</td>\n",
              "      <td>226222.0</td>\n",
              "      <td>118026.0</td>\n",
              "      <td>116226.0</td>\n",
              "      <td>51878.0</td>\n",
              "      <td>295719.0</td>\n",
              "      <td>208526.0</td>\n",
              "      <td>295719.0</td>\n",
              "      <td>208526.0</td>\n",
              "      <td>50305.0</td>\n",
              "      <td>59757.0</td>\n",
              "      <td>226930.0</td>\n",
              "      <td>33993.0</td>\n",
              "      <td>75502.0</td>\n",
              "      <td>138066.0</td>\n",
              "      <td>221817.0</td>\n",
              "      <td>90698.0</td>\n",
              "      <td>0.0</td>\n",
              "      <td>1.0</td>\n",
              "      <td>0.0</td>\n",
              "      <td>1.0</td>\n",
              "      <td>0.0</td>\n",
              "      <td>0.0</td>\n",
              "      <td>1.0</td>\n",
              "      <td>0.0</td>\n",
              "      <td>1.0</td>\n",
              "      <td>1.0</td>\n",
              "      <td>0.0</td>\n",
              "      <td>1.0</td>\n",
              "      <td>0.0</td>\n",
              "      <td>0.0</td>\n",
              "      <td>1.0</td>\n",
              "      <td>1.0</td>\n",
              "      <td>1.0</td>\n",
              "      <td>1.0</td>\n",
              "      <td>1.0</td>\n",
              "      <td>1.0</td>\n",
              "    </tr>\n",
              "    <tr>\n",
              "      <th>0_00016a3d-9076-4f67-918f-f29e3ce160dc</th>\n",
              "      <td>140720.0</td>\n",
              "      <td>286600.0</td>\n",
              "      <td>101915.0</td>\n",
              "      <td>277035.0</td>\n",
              "      <td>236783.0</td>\n",
              "      <td>68598.0</td>\n",
              "      <td>88140.0</td>\n",
              "      <td>31527.0</td>\n",
              "      <td>230808.0</td>\n",
              "      <td>291701.0</td>\n",
              "      <td>17227.0</td>\n",
              "      <td>51448.0</td>\n",
              "      <td>268994.0</td>\n",
              "      <td>153843.0</td>\n",
              "      <td>20616.0</td>\n",
              "      <td>107154.0</td>\n",
              "      <td>293215.0</td>\n",
              "      <td>87376.0</td>\n",
              "      <td>243250.0</td>\n",
              "      <td>245799.0</td>\n",
              "      <td>1.0</td>\n",
              "      <td>1.0</td>\n",
              "      <td>1.0</td>\n",
              "      <td>1.0</td>\n",
              "      <td>1.0</td>\n",
              "      <td>1.0</td>\n",
              "      <td>1.0</td>\n",
              "      <td>0.0</td>\n",
              "      <td>0.0</td>\n",
              "      <td>0.0</td>\n",
              "      <td>1.0</td>\n",
              "      <td>1.0</td>\n",
              "      <td>1.0</td>\n",
              "      <td>1.0</td>\n",
              "      <td>1.0</td>\n",
              "      <td>1.0</td>\n",
              "      <td>0.0</td>\n",
              "      <td>1.0</td>\n",
              "      <td>1.0</td>\n",
              "      <td>1.0</td>\n",
              "    </tr>\n",
              "    <tr>\n",
              "      <th>0_00018b58-deb8-4f98-ac5e-d7e01b346130</th>\n",
              "      <td>50130.0</td>\n",
              "      <td>58504.0</td>\n",
              "      <td>88612.0</td>\n",
              "      <td>37166.0</td>\n",
              "      <td>68322.0</td>\n",
              "      <td>44687.0</td>\n",
              "      <td>149478.0</td>\n",
              "      <td>136053.0</td>\n",
              "      <td>184454.0</td>\n",
              "      <td>182141.0</td>\n",
              "      <td>80384.0</td>\n",
              "      <td>NaN</td>\n",
              "      <td>NaN</td>\n",
              "      <td>NaN</td>\n",
              "      <td>NaN</td>\n",
              "      <td>NaN</td>\n",
              "      <td>NaN</td>\n",
              "      <td>NaN</td>\n",
              "      <td>NaN</td>\n",
              "      <td>NaN</td>\n",
              "      <td>0.0</td>\n",
              "      <td>0.0</td>\n",
              "      <td>0.0</td>\n",
              "      <td>1.0</td>\n",
              "      <td>0.0</td>\n",
              "      <td>0.0</td>\n",
              "      <td>0.0</td>\n",
              "      <td>0.0</td>\n",
              "      <td>0.0</td>\n",
              "      <td>0.0</td>\n",
              "      <td>0.0</td>\n",
              "      <td>NaN</td>\n",
              "      <td>NaN</td>\n",
              "      <td>NaN</td>\n",
              "      <td>NaN</td>\n",
              "      <td>NaN</td>\n",
              "      <td>NaN</td>\n",
              "      <td>NaN</td>\n",
              "      <td>NaN</td>\n",
              "      <td>NaN</td>\n",
              "    </tr>\n",
              "  </tbody>\n",
              "</table>\n",
              "</div>"
            ],
            "text/plain": [
              "                                       track_id_clean            ... skip_2     \n",
              "session_position                                   1         2   ...     19   20\n",
              "session_id                                                       ...            \n",
              "0_00006f66-33e5-4de7-a324-2d18e439fc1e         5621.0  180239.0  ...    1.0  1.0\n",
              "0_0000a72b-09ac-412f-b452-9b9e79bded8f       290715.0    7754.0  ...    0.0  0.0\n",
              "0_00010fc5-b79e-4cdf-bc4c-f140d0f99a3a       179103.0  303076.0  ...    1.0  1.0\n",
              "0_00016a3d-9076-4f67-918f-f29e3ce160dc       140720.0  286600.0  ...    1.0  1.0\n",
              "0_00018b58-deb8-4f98-ac5e-d7e01b346130        50130.0   58504.0  ...    NaN  NaN\n",
              "\n",
              "[5 rows x 40 columns]"
            ]
          },
          "metadata": {
            "tags": []
          },
          "execution_count": 16
        }
      ]
    },
    {
      "cell_type": "code",
      "metadata": {
        "pycharm": {
          "name": "#%% Create Sequence For Model: Windowsize = 5; Target = skip_2 of third track\n"
        },
        "id": "kILlqCoRtsPM",
        "outputId": "d7f46d51-2109-4ed8-fae4-83a5e6d4efa0",
        "colab": {
          "base_uri": "https://localhost:8080/",
          "height": 34
        }
      },
      "source": [
        "input_array = []\n",
        "for index, row in stacked_sessions.iterrows():\n",
        "    index = 3\n",
        "    while index <= 8 :\n",
        "        arr_row = {'Track1': row[('track_id_clean', index-2)], 'Track2': row[('track_id_clean', index-1)], 'Track3': row[('track_id_clean', index)], 'Track4': row[('track_id_clean', index+1)], 'Track5': row[('track_id_clean', index+2)], 'Track_3_Skip_2': row[('skip_2', index)]}\n",
        "        input_array.append(arr_row)\n",
        "        index = index+1\n",
        "print(len(input_array))"
      ],
      "execution_count": 17,
      "outputs": [
        {
          "output_type": "stream",
          "text": [
            "1070052\n"
          ],
          "name": "stdout"
        }
      ]
    },
    {
      "cell_type": "code",
      "metadata": {
        "pycharm": {
          "name": "#%% Create Dataframe\n"
        },
        "id": "hr8k0IzmtsPR",
        "outputId": "5c2f98d0-ba12-4468-fe2a-e9db3491b703",
        "colab": {
          "base_uri": "https://localhost:8080/",
          "height": 206
        }
      },
      "source": [
        "model_input = pd.DataFrame(input_array)\n",
        "model_input.head()"
      ],
      "execution_count": 18,
      "outputs": [
        {
          "output_type": "execute_result",
          "data": {
            "text/html": [
              "<div>\n",
              "<style scoped>\n",
              "    .dataframe tbody tr th:only-of-type {\n",
              "        vertical-align: middle;\n",
              "    }\n",
              "\n",
              "    .dataframe tbody tr th {\n",
              "        vertical-align: top;\n",
              "    }\n",
              "\n",
              "    .dataframe thead th {\n",
              "        text-align: right;\n",
              "    }\n",
              "</style>\n",
              "<table border=\"1\" class=\"dataframe\">\n",
              "  <thead>\n",
              "    <tr style=\"text-align: right;\">\n",
              "      <th></th>\n",
              "      <th>Track1</th>\n",
              "      <th>Track2</th>\n",
              "      <th>Track3</th>\n",
              "      <th>Track4</th>\n",
              "      <th>Track5</th>\n",
              "      <th>Track_3_Skip_2</th>\n",
              "    </tr>\n",
              "  </thead>\n",
              "  <tbody>\n",
              "    <tr>\n",
              "      <th>0</th>\n",
              "      <td>5621.0</td>\n",
              "      <td>180239.0</td>\n",
              "      <td>314424.0</td>\n",
              "      <td>44689.0</td>\n",
              "      <td>125848.0</td>\n",
              "      <td>0.0</td>\n",
              "    </tr>\n",
              "    <tr>\n",
              "      <th>1</th>\n",
              "      <td>180239.0</td>\n",
              "      <td>314424.0</td>\n",
              "      <td>44689.0</td>\n",
              "      <td>125848.0</td>\n",
              "      <td>249229.0</td>\n",
              "      <td>0.0</td>\n",
              "    </tr>\n",
              "    <tr>\n",
              "      <th>2</th>\n",
              "      <td>314424.0</td>\n",
              "      <td>44689.0</td>\n",
              "      <td>125848.0</td>\n",
              "      <td>249229.0</td>\n",
              "      <td>281749.0</td>\n",
              "      <td>0.0</td>\n",
              "    </tr>\n",
              "    <tr>\n",
              "      <th>3</th>\n",
              "      <td>44689.0</td>\n",
              "      <td>125848.0</td>\n",
              "      <td>249229.0</td>\n",
              "      <td>281749.0</td>\n",
              "      <td>14825.0</td>\n",
              "      <td>0.0</td>\n",
              "    </tr>\n",
              "    <tr>\n",
              "      <th>4</th>\n",
              "      <td>125848.0</td>\n",
              "      <td>249229.0</td>\n",
              "      <td>281749.0</td>\n",
              "      <td>14825.0</td>\n",
              "      <td>303773.0</td>\n",
              "      <td>1.0</td>\n",
              "    </tr>\n",
              "  </tbody>\n",
              "</table>\n",
              "</div>"
            ],
            "text/plain": [
              "     Track1    Track2    Track3    Track4    Track5  Track_3_Skip_2\n",
              "0    5621.0  180239.0  314424.0   44689.0  125848.0             0.0\n",
              "1  180239.0  314424.0   44689.0  125848.0  249229.0             0.0\n",
              "2  314424.0   44689.0  125848.0  249229.0  281749.0             0.0\n",
              "3   44689.0  125848.0  249229.0  281749.0   14825.0             0.0\n",
              "4  125848.0  249229.0  281749.0   14825.0  303773.0             1.0"
            ]
          },
          "metadata": {
            "tags": []
          },
          "execution_count": 18
        }
      ]
    },
    {
      "cell_type": "code",
      "metadata": {
        "pycharm": {
          "name": "#%% Sanity checking\n"
        },
        "id": "gji1ncPbtsPX",
        "outputId": "7907caca-3e84-4bac-e18c-1d66bc759d18",
        "colab": {
          "base_uri": "https://localhost:8080/",
          "height": 34
        }
      },
      "source": [
        "model_input.shape\n"
      ],
      "execution_count": 19,
      "outputs": [
        {
          "output_type": "execute_result",
          "data": {
            "text/plain": [
              "(1070052, 6)"
            ]
          },
          "metadata": {
            "tags": []
          },
          "execution_count": 19
        }
      ]
    },
    {
      "cell_type": "code",
      "metadata": {
        "pycharm": {
          "name": "#%% For fitting\n"
        },
        "id": "mdnqPXUgtsPa"
      },
      "source": [
        "skips = model_input['Track_3_Skip_2']"
      ],
      "execution_count": 20,
      "outputs": []
    },
    {
      "cell_type": "code",
      "metadata": {
        "pycharm": {
          "name": "#%% For fitting\n"
        },
        "id": "9rHuziQVtsPf"
      },
      "source": [
        "tracks = model_input.drop('Track_3_Skip_2', axis=1)"
      ],
      "execution_count": 21,
      "outputs": []
    },
    {
      "cell_type": "code",
      "metadata": {
        "pycharm": {
          "name": "#%% Sanity check\n"
        },
        "id": "-vOKxaDWtsPl",
        "outputId": "b9426704-2ba0-4004-c536-13d03713623b",
        "colab": {
          "base_uri": "https://localhost:8080/",
          "height": 34
        }
      },
      "source": [
        "skips.shape"
      ],
      "execution_count": 22,
      "outputs": [
        {
          "output_type": "execute_result",
          "data": {
            "text/plain": [
              "(1070052,)"
            ]
          },
          "metadata": {
            "tags": []
          },
          "execution_count": 22
        }
      ]
    },
    {
      "cell_type": "code",
      "metadata": {
        "pycharm": {
          "name": "#%% Sanity check\n"
        },
        "id": "lxIMZq6itsPq",
        "outputId": "abb25efd-5612-429e-ce2a-55715c168de8",
        "colab": {
          "base_uri": "https://localhost:8080/",
          "height": 34
        }
      },
      "source": [
        "tracks.shape"
      ],
      "execution_count": 23,
      "outputs": [
        {
          "output_type": "execute_result",
          "data": {
            "text/plain": [
              "(1070052, 5)"
            ]
          },
          "metadata": {
            "tags": []
          },
          "execution_count": 23
        }
      ]
    },
    {
      "cell_type": "code",
      "metadata": {
        "pycharm": {
          "name": "#%% Define Simple Embedding\n"
        },
        "id": "XFtUhTcftsPw"
      },
      "source": [
        "embedding_size = 50\n",
        "embedding = Embedding(input_dim=unique_tracks, output_dim=embedding_size, input_length=5, name='sequence_track_embedding')\n",
        "model = Sequential()\n",
        "model.add(embedding)\n",
        "model.add(Flatten())\n",
        "model.add(Dense(50, activation=\"relu\"))\n",
        "model.add(Dropout(0.5))\n",
        "model.add(Dense(30, activation=\"relu\"))\n",
        "model.add(Dropout(0.5))\n",
        "model.add(Dense(15, activation=\"relu\"))\n",
        "model.add(Dropout(0.5))\n",
        "model.add(Dense(1, activation=\"sigmoid\"))"
      ],
      "execution_count": 24,
      "outputs": []
    },
    {
      "cell_type": "code",
      "metadata": {
        "pycharm": {
          "name": "#%% Compile Model\n"
        },
        "id": "WVDxTz6ttsP3"
      },
      "source": [
        "model.compile(optimizer='adam', loss='binary_crossentropy', metrics=['accuracy'])"
      ],
      "execution_count": 25,
      "outputs": []
    },
    {
      "cell_type": "code",
      "metadata": {
        "pycharm": {
          "name": "#%% Train Model\n",
          "is_executing": true
        },
        "id": "YqwnCTnRtsP7",
        "outputId": "e7aa37dd-4aac-489f-f878-3caf101113de",
        "colab": {
          "base_uri": "https://localhost:8080/",
          "height": 382
        }
      },
      "source": [
        "model.fit(x=tracks, y=skips, epochs=10, validation_split=0.2, batch_size=5000)"
      ],
      "execution_count": 30,
      "outputs": [
        {
          "output_type": "stream",
          "text": [
            "Epoch 1/10\n",
            "172/172 [==============================] - 18s 104ms/step - loss: 0.6136 - accuracy: 0.6530 - val_loss: 0.7253 - val_accuracy: 0.5351\n",
            "Epoch 2/10\n",
            "172/172 [==============================] - 18s 103ms/step - loss: 0.5529 - accuracy: 0.6930 - val_loss: 0.8018 - val_accuracy: 0.5353\n",
            "Epoch 3/10\n",
            "172/172 [==============================] - 18s 102ms/step - loss: 0.4954 - accuracy: 0.7215 - val_loss: 0.9373 - val_accuracy: 0.5343\n",
            "Epoch 4/10\n",
            "172/172 [==============================] - 18s 103ms/step - loss: 0.4543 - accuracy: 0.7392 - val_loss: 1.1731 - val_accuracy: 0.5347\n",
            "Epoch 5/10\n",
            "172/172 [==============================] - 18s 103ms/step - loss: 0.4276 - accuracy: 0.7506 - val_loss: 1.4165 - val_accuracy: 0.5336\n",
            "Epoch 6/10\n",
            "172/172 [==============================] - 18s 102ms/step - loss: 0.4088 - accuracy: 0.7597 - val_loss: 1.7260 - val_accuracy: 0.5345\n",
            "Epoch 7/10\n",
            "172/172 [==============================] - 18s 103ms/step - loss: 0.3954 - accuracy: 0.7672 - val_loss: 1.9599 - val_accuracy: 0.5337\n",
            "Epoch 8/10\n",
            "172/172 [==============================] - 18s 102ms/step - loss: 0.3846 - accuracy: 0.7735 - val_loss: 2.1748 - val_accuracy: 0.5312\n",
            "Epoch 9/10\n",
            "172/172 [==============================] - 18s 102ms/step - loss: 0.3761 - accuracy: 0.7818 - val_loss: 2.3559 - val_accuracy: 0.5330\n",
            "Epoch 10/10\n",
            "172/172 [==============================] - 18s 102ms/step - loss: 0.3680 - accuracy: 0.7875 - val_loss: 2.5638 - val_accuracy: 0.5321\n"
          ],
          "name": "stdout"
        },
        {
          "output_type": "execute_result",
          "data": {
            "text/plain": [
              "<tensorflow.python.keras.callbacks.History at 0x7f4d54d9bf60>"
            ]
          },
          "metadata": {
            "tags": []
          },
          "execution_count": 30
        }
      ]
    },
    {
      "cell_type": "code",
      "metadata": {
        "id": "i6DI9x_jwb_0"
      },
      "source": [
        "model.save"
      ],
      "execution_count": null,
      "outputs": []
    },
    {
      "cell_type": "code",
      "metadata": {
        "pycharm": {
          "name": "#%% Get Embedding Layer\n"
        },
        "id": "WlXCI_j7tsP-",
        "outputId": "05d6e706-3b65-4e17-cf0c-4a27efe9646c",
        "colab": {
          "base_uri": "https://localhost:8080/",
          "height": 226
        }
      },
      "source": [
        "embedding_layer = model.get_layer(name=\"sequence_track_embedding\")\n",
        "embedding_layer = pd.DataFrame(embedding_layer.get_weights()[0])\n",
        "embedding_layer.head()"
      ],
      "execution_count": 32,
      "outputs": [
        {
          "output_type": "execute_result",
          "data": {
            "text/html": [
              "<div>\n",
              "<style scoped>\n",
              "    .dataframe tbody tr th:only-of-type {\n",
              "        vertical-align: middle;\n",
              "    }\n",
              "\n",
              "    .dataframe tbody tr th {\n",
              "        vertical-align: top;\n",
              "    }\n",
              "\n",
              "    .dataframe thead th {\n",
              "        text-align: right;\n",
              "    }\n",
              "</style>\n",
              "<table border=\"1\" class=\"dataframe\">\n",
              "  <thead>\n",
              "    <tr style=\"text-align: right;\">\n",
              "      <th></th>\n",
              "      <th>0</th>\n",
              "      <th>1</th>\n",
              "      <th>2</th>\n",
              "      <th>3</th>\n",
              "      <th>4</th>\n",
              "      <th>5</th>\n",
              "      <th>6</th>\n",
              "      <th>7</th>\n",
              "      <th>8</th>\n",
              "      <th>9</th>\n",
              "      <th>10</th>\n",
              "      <th>11</th>\n",
              "      <th>12</th>\n",
              "      <th>13</th>\n",
              "      <th>14</th>\n",
              "      <th>15</th>\n",
              "      <th>16</th>\n",
              "      <th>17</th>\n",
              "      <th>18</th>\n",
              "      <th>19</th>\n",
              "      <th>20</th>\n",
              "      <th>21</th>\n",
              "      <th>22</th>\n",
              "      <th>23</th>\n",
              "      <th>24</th>\n",
              "      <th>25</th>\n",
              "      <th>26</th>\n",
              "      <th>27</th>\n",
              "      <th>28</th>\n",
              "      <th>29</th>\n",
              "      <th>30</th>\n",
              "      <th>31</th>\n",
              "      <th>32</th>\n",
              "      <th>33</th>\n",
              "      <th>34</th>\n",
              "      <th>35</th>\n",
              "      <th>36</th>\n",
              "      <th>37</th>\n",
              "      <th>38</th>\n",
              "      <th>39</th>\n",
              "      <th>40</th>\n",
              "      <th>41</th>\n",
              "      <th>42</th>\n",
              "      <th>43</th>\n",
              "      <th>44</th>\n",
              "      <th>45</th>\n",
              "      <th>46</th>\n",
              "      <th>47</th>\n",
              "      <th>48</th>\n",
              "      <th>49</th>\n",
              "    </tr>\n",
              "  </thead>\n",
              "  <tbody>\n",
              "    <tr>\n",
              "      <th>0</th>\n",
              "      <td>0.033875</td>\n",
              "      <td>0.047370</td>\n",
              "      <td>0.023197</td>\n",
              "      <td>-0.020401</td>\n",
              "      <td>0.047857</td>\n",
              "      <td>-0.023679</td>\n",
              "      <td>0.036262</td>\n",
              "      <td>0.014599</td>\n",
              "      <td>0.014686</td>\n",
              "      <td>-0.041073</td>\n",
              "      <td>0.039454</td>\n",
              "      <td>0.036337</td>\n",
              "      <td>-0.031952</td>\n",
              "      <td>-0.039342</td>\n",
              "      <td>-0.011974</td>\n",
              "      <td>0.024340</td>\n",
              "      <td>-0.006942</td>\n",
              "      <td>0.033568</td>\n",
              "      <td>0.003854</td>\n",
              "      <td>-0.046212</td>\n",
              "      <td>0.010545</td>\n",
              "      <td>-0.030379</td>\n",
              "      <td>0.046308</td>\n",
              "      <td>0.032033</td>\n",
              "      <td>-0.032684</td>\n",
              "      <td>-0.011728</td>\n",
              "      <td>-0.046318</td>\n",
              "      <td>0.013488</td>\n",
              "      <td>0.031607</td>\n",
              "      <td>-0.022161</td>\n",
              "      <td>-0.015977</td>\n",
              "      <td>0.046706</td>\n",
              "      <td>0.022859</td>\n",
              "      <td>0.002011</td>\n",
              "      <td>0.014080</td>\n",
              "      <td>0.012164</td>\n",
              "      <td>-0.039286</td>\n",
              "      <td>0.035036</td>\n",
              "      <td>0.006925</td>\n",
              "      <td>0.027857</td>\n",
              "      <td>0.017201</td>\n",
              "      <td>-0.049906</td>\n",
              "      <td>-0.042533</td>\n",
              "      <td>-0.002784</td>\n",
              "      <td>-0.020299</td>\n",
              "      <td>0.001127</td>\n",
              "      <td>-0.037685</td>\n",
              "      <td>-0.018068</td>\n",
              "      <td>0.040775</td>\n",
              "      <td>0.036056</td>\n",
              "    </tr>\n",
              "    <tr>\n",
              "      <th>1</th>\n",
              "      <td>-0.036786</td>\n",
              "      <td>0.066691</td>\n",
              "      <td>-0.096675</td>\n",
              "      <td>0.058539</td>\n",
              "      <td>-0.004832</td>\n",
              "      <td>-0.049254</td>\n",
              "      <td>-0.018054</td>\n",
              "      <td>-0.002008</td>\n",
              "      <td>-0.047270</td>\n",
              "      <td>-0.031952</td>\n",
              "      <td>-0.053679</td>\n",
              "      <td>-0.040039</td>\n",
              "      <td>-0.094667</td>\n",
              "      <td>0.121376</td>\n",
              "      <td>-0.071154</td>\n",
              "      <td>0.039361</td>\n",
              "      <td>-0.005061</td>\n",
              "      <td>0.115382</td>\n",
              "      <td>0.110668</td>\n",
              "      <td>0.024943</td>\n",
              "      <td>-0.114266</td>\n",
              "      <td>-0.003926</td>\n",
              "      <td>0.007115</td>\n",
              "      <td>0.060059</td>\n",
              "      <td>-0.009180</td>\n",
              "      <td>0.124521</td>\n",
              "      <td>0.048334</td>\n",
              "      <td>-0.033978</td>\n",
              "      <td>-0.012116</td>\n",
              "      <td>0.054881</td>\n",
              "      <td>-0.044650</td>\n",
              "      <td>-0.008491</td>\n",
              "      <td>0.008106</td>\n",
              "      <td>-0.009795</td>\n",
              "      <td>0.126547</td>\n",
              "      <td>-0.020160</td>\n",
              "      <td>0.044465</td>\n",
              "      <td>-0.023339</td>\n",
              "      <td>0.055788</td>\n",
              "      <td>-0.092280</td>\n",
              "      <td>-0.098802</td>\n",
              "      <td>-0.020120</td>\n",
              "      <td>0.070625</td>\n",
              "      <td>-0.018232</td>\n",
              "      <td>0.062357</td>\n",
              "      <td>0.004222</td>\n",
              "      <td>-0.007548</td>\n",
              "      <td>-0.045778</td>\n",
              "      <td>0.073257</td>\n",
              "      <td>-0.082723</td>\n",
              "    </tr>\n",
              "    <tr>\n",
              "      <th>2</th>\n",
              "      <td>-0.028315</td>\n",
              "      <td>0.044363</td>\n",
              "      <td>-0.059785</td>\n",
              "      <td>0.111413</td>\n",
              "      <td>-0.014017</td>\n",
              "      <td>-0.161652</td>\n",
              "      <td>-0.012663</td>\n",
              "      <td>-0.005749</td>\n",
              "      <td>-0.002311</td>\n",
              "      <td>-0.226310</td>\n",
              "      <td>-0.030573</td>\n",
              "      <td>0.042760</td>\n",
              "      <td>-0.131752</td>\n",
              "      <td>0.057019</td>\n",
              "      <td>0.030567</td>\n",
              "      <td>0.075118</td>\n",
              "      <td>0.166251</td>\n",
              "      <td>-0.013411</td>\n",
              "      <td>0.013798</td>\n",
              "      <td>-0.011878</td>\n",
              "      <td>-0.091362</td>\n",
              "      <td>0.014154</td>\n",
              "      <td>0.103645</td>\n",
              "      <td>0.010505</td>\n",
              "      <td>-0.151111</td>\n",
              "      <td>0.059803</td>\n",
              "      <td>-0.136762</td>\n",
              "      <td>-0.039064</td>\n",
              "      <td>-0.137698</td>\n",
              "      <td>0.129964</td>\n",
              "      <td>-0.046579</td>\n",
              "      <td>-0.060361</td>\n",
              "      <td>0.041188</td>\n",
              "      <td>-0.141306</td>\n",
              "      <td>0.028044</td>\n",
              "      <td>-0.075520</td>\n",
              "      <td>0.066755</td>\n",
              "      <td>0.052113</td>\n",
              "      <td>-0.008015</td>\n",
              "      <td>0.111465</td>\n",
              "      <td>-0.012977</td>\n",
              "      <td>-0.105865</td>\n",
              "      <td>0.111954</td>\n",
              "      <td>-0.116224</td>\n",
              "      <td>-0.055370</td>\n",
              "      <td>-0.020840</td>\n",
              "      <td>0.081447</td>\n",
              "      <td>-0.048186</td>\n",
              "      <td>-0.029952</td>\n",
              "      <td>-0.024110</td>\n",
              "    </tr>\n",
              "    <tr>\n",
              "      <th>3</th>\n",
              "      <td>0.026977</td>\n",
              "      <td>0.000909</td>\n",
              "      <td>-0.030441</td>\n",
              "      <td>0.030630</td>\n",
              "      <td>-0.019343</td>\n",
              "      <td>-0.015275</td>\n",
              "      <td>-0.006694</td>\n",
              "      <td>-0.040566</td>\n",
              "      <td>-0.028212</td>\n",
              "      <td>-0.030661</td>\n",
              "      <td>-0.020765</td>\n",
              "      <td>0.049071</td>\n",
              "      <td>-0.014045</td>\n",
              "      <td>-0.004874</td>\n",
              "      <td>-0.030092</td>\n",
              "      <td>0.046760</td>\n",
              "      <td>0.006824</td>\n",
              "      <td>-0.027269</td>\n",
              "      <td>0.049418</td>\n",
              "      <td>-0.048481</td>\n",
              "      <td>0.034839</td>\n",
              "      <td>0.012267</td>\n",
              "      <td>0.038519</td>\n",
              "      <td>0.045025</td>\n",
              "      <td>0.026352</td>\n",
              "      <td>-0.045968</td>\n",
              "      <td>0.028785</td>\n",
              "      <td>0.004690</td>\n",
              "      <td>0.019502</td>\n",
              "      <td>0.001590</td>\n",
              "      <td>-0.028143</td>\n",
              "      <td>-0.026611</td>\n",
              "      <td>0.020121</td>\n",
              "      <td>0.001280</td>\n",
              "      <td>-0.027488</td>\n",
              "      <td>-0.002379</td>\n",
              "      <td>-0.023885</td>\n",
              "      <td>-0.037641</td>\n",
              "      <td>0.025096</td>\n",
              "      <td>-0.047240</td>\n",
              "      <td>0.014771</td>\n",
              "      <td>0.027699</td>\n",
              "      <td>-0.021025</td>\n",
              "      <td>0.044378</td>\n",
              "      <td>0.026376</td>\n",
              "      <td>0.021001</td>\n",
              "      <td>-0.013994</td>\n",
              "      <td>-0.010268</td>\n",
              "      <td>-0.028588</td>\n",
              "      <td>-0.039348</td>\n",
              "    </tr>\n",
              "    <tr>\n",
              "      <th>4</th>\n",
              "      <td>0.005791</td>\n",
              "      <td>-0.056246</td>\n",
              "      <td>-0.044965</td>\n",
              "      <td>-0.022959</td>\n",
              "      <td>-0.019970</td>\n",
              "      <td>-0.053835</td>\n",
              "      <td>0.030764</td>\n",
              "      <td>0.020124</td>\n",
              "      <td>-0.088946</td>\n",
              "      <td>0.014746</td>\n",
              "      <td>0.083345</td>\n",
              "      <td>-0.027527</td>\n",
              "      <td>-0.071402</td>\n",
              "      <td>-0.031327</td>\n",
              "      <td>0.034442</td>\n",
              "      <td>0.022711</td>\n",
              "      <td>0.010025</td>\n",
              "      <td>-0.043805</td>\n",
              "      <td>0.125235</td>\n",
              "      <td>-0.021676</td>\n",
              "      <td>0.085293</td>\n",
              "      <td>-0.041753</td>\n",
              "      <td>0.009159</td>\n",
              "      <td>-0.100616</td>\n",
              "      <td>0.068117</td>\n",
              "      <td>-0.018142</td>\n",
              "      <td>-0.008547</td>\n",
              "      <td>-0.016521</td>\n",
              "      <td>-0.031362</td>\n",
              "      <td>0.043372</td>\n",
              "      <td>-0.032608</td>\n",
              "      <td>-0.028152</td>\n",
              "      <td>-0.013695</td>\n",
              "      <td>-0.012240</td>\n",
              "      <td>-0.046511</td>\n",
              "      <td>-0.004607</td>\n",
              "      <td>0.011858</td>\n",
              "      <td>0.014594</td>\n",
              "      <td>-0.087158</td>\n",
              "      <td>-0.046952</td>\n",
              "      <td>0.029584</td>\n",
              "      <td>-0.014815</td>\n",
              "      <td>0.022486</td>\n",
              "      <td>0.000603</td>\n",
              "      <td>0.055311</td>\n",
              "      <td>0.021881</td>\n",
              "      <td>-0.020985</td>\n",
              "      <td>0.058969</td>\n",
              "      <td>-0.003666</td>\n",
              "      <td>-0.005771</td>\n",
              "    </tr>\n",
              "  </tbody>\n",
              "</table>\n",
              "</div>"
            ],
            "text/plain": [
              "         0         1         2   ...        47        48        49\n",
              "0  0.033875  0.047370  0.023197  ... -0.018068  0.040775  0.036056\n",
              "1 -0.036786  0.066691 -0.096675  ... -0.045778  0.073257 -0.082723\n",
              "2 -0.028315  0.044363 -0.059785  ... -0.048186 -0.029952 -0.024110\n",
              "3  0.026977  0.000909 -0.030441  ... -0.010268 -0.028588 -0.039348\n",
              "4  0.005791 -0.056246 -0.044965  ...  0.058969 -0.003666 -0.005771\n",
              "\n",
              "[5 rows x 50 columns]"
            ]
          },
          "metadata": {
            "tags": []
          },
          "execution_count": 32
        }
      ]
    },
    {
      "cell_type": "code",
      "metadata": {
        "id": "Wkgdp41twvSs"
      },
      "source": [
        "embedding_layer.to_csv('sequence_track_embedding_weights.csv')"
      ],
      "execution_count": 33,
      "outputs": []
    },
    {
      "cell_type": "code",
      "metadata": {
        "pycharm": {
          "name": "#%% Sanity Check\n"
        },
        "id": "ksAjZ81CtsQC",
        "outputId": "ce3e318c-280e-4157-c691-6ea278ba3154",
        "colab": {
          "base_uri": "https://localhost:8080/",
          "height": 34
        }
      },
      "source": [
        "embedding_layer.shape"
      ],
      "execution_count": 34,
      "outputs": [
        {
          "output_type": "execute_result",
          "data": {
            "text/plain": [
              "(319008, 50)"
            ]
          },
          "metadata": {
            "tags": []
          },
          "execution_count": 34
        }
      ]
    },
    {
      "cell_type": "code",
      "metadata": {
        "pycharm": {
          "name": "#%% Back to track_ids\n"
        },
        "id": "iK6gkfGqtsQG"
      },
      "source": [
        "embedding_layer.index = encoder.inverse_transform(embedding_layer.index)"
      ],
      "execution_count": null,
      "outputs": []
    },
    {
      "cell_type": "code",
      "metadata": {
        "pycharm": {
          "name": "#%% Sanity Check\n"
        },
        "id": "aO4Qu_HztsQK"
      },
      "source": [
        "!git clone https://github.com/chiru-stefan/AE-Emb---AI-Proj.git"
      ],
      "execution_count": null,
      "outputs": []
    }
  ]
}